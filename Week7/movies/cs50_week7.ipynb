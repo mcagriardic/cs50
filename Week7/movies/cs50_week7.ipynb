{
 "cells": [
  {
   "cell_type": "code",
   "execution_count": 1,
   "metadata": {},
   "outputs": [],
   "source": [
    "import sqlite3"
   ]
  },
  {
   "cell_type": "code",
   "execution_count": 2,
   "metadata": {},
   "outputs": [],
   "source": [
    "db_file = \"movies.db\"\n",
    "conn = sqlite3.connect(db_file, timeout=10)\n",
    "c = conn.cursor()"
   ]
  },
  {
   "cell_type": "code",
   "execution_count": 3,
   "metadata": {},
   "outputs": [],
   "source": [
    "def execute_task(task, connection = conn):\n",
    "    c = connection.cursor()\n",
    "    return c.execute(task)"
   ]
  },
  {
   "cell_type": "code",
   "execution_count": 4,
   "metadata": {},
   "outputs": [],
   "source": [
    "directors = execute_task(\"SELECT * FROM directors;\")\n",
    "movies = execute_task(\"SELECT * FROM movies;\")\n",
    "ratings = execute_task(\"SELECT * FROM ratings;\")\n",
    "people = execute_task(\"SELECT * FROM people;\")\n",
    "stars = execute_task(\"SELECT * FROM stars;\")"
   ]
  },
  {
   "cell_type": "code",
   "execution_count": 5,
   "metadata": {},
   "outputs": [],
   "source": [
    "try:\n",
    "    c.execute('CREATE INDEX people_index ON people(id);')\n",
    "    c.execute('CREATE INDEX person_index ON stars(person_id);')\n",
    "    c.execute('CREATE INDEX movie_index ON stars(movie_id);')\n",
    "    c.execute('CREATE INDEX name_index ON people(name);')\n",
    "except Exception as e:\n",
    "    print(e)"
   ]
  },
  {
   "cell_type": "markdown",
   "metadata": {},
   "source": [
    "# 1.sql\n",
    "\n",
    "## Q:  list the titles of all movies released in 2008\n",
    "\n",
    "1. Your query should output a table with a single column for the title of each movie."
   ]
  },
  {
   "cell_type": "code",
   "execution_count": 6,
   "metadata": {},
   "outputs": [
    {
     "data": {
      "text/plain": [
       "[('Biriken', 2008),\n",
       " ('Still Waters Burn', 2008),\n",
       " ('My Apocalypse', 2008),\n",
       " ('Beloved Clara', 2008),\n",
       " ('The Bank Job', 2008),\n",
       " ('Berlin Calling', 2008),\n",
       " ('This Child of Mine', 2008),\n",
       " ('Jackson', 2008),\n",
       " ('A Circle on the Cross', 2008),\n",
       " ('Brothel', 2008)]"
      ]
     },
     "execution_count": 6,
     "metadata": {},
     "output_type": "execute_result"
    }
   ],
   "source": [
    "task = \"\"\"\n",
    "        SELECT title, year\n",
    "        FROM movies\n",
    "        WHERE year = 2008;\n",
    "\"\"\"\n",
    "\n",
    "sql_one = execute_task(task)\n",
    "sql_one.fetchmany(10)"
   ]
  },
  {
   "cell_type": "markdown",
   "metadata": {},
   "source": [
    "# 2.sql\n",
    "\n",
    "## Q: determine the birth year of Emma Stone\n",
    "\n",
    "1. Your query should output a table with a single column and a single row (plus optional header) containing Emma Stone’s birth year.\n",
    "2. You may assume that there is only one person in the database with the name Emma Stone."
   ]
  },
  {
   "cell_type": "code",
   "execution_count": 7,
   "metadata": {},
   "outputs": [
    {
     "data": {
      "text/plain": [
       "('Emma Stone', 1988)"
      ]
     },
     "execution_count": 7,
     "metadata": {},
     "output_type": "execute_result"
    }
   ],
   "source": [
    "task = \"\"\"\n",
    "        SELECT name, birth\n",
    "        FROM people\n",
    "        WHERE name = 'Emma Stone';\n",
    "\"\"\"\n",
    "\n",
    "sql_two = execute_task(task)\n",
    "sql_two.fetchone()"
   ]
  },
  {
   "cell_type": "markdown",
   "metadata": {},
   "source": [
    "# 3.sql\n",
    "\n",
    "## Q: list the titles of all movies with a release date on or after 2018, in alphabetical order.\n",
    "\n",
    "1. Your query should output a table with a single column for the title of each movie.\n",
    "2. Movies released in 2018 should be included, as should movies with release dates in the future."
   ]
  },
  {
   "cell_type": "code",
   "execution_count": 8,
   "metadata": {},
   "outputs": [
    {
     "data": {
      "text/plain": [
       "[('#19', 2021),\n",
       " ('#1915House', 2018),\n",
       " ('#5', 2018),\n",
       " ('#AbroHilo', 2019),\n",
       " ('#Alone', 2020),\n",
       " ('#AnneFrank. Parallel Stories', 2019),\n",
       " ('#Bicyclediary', 2018),\n",
       " (\"#BigFertility: It's All About The Money\", 2018),\n",
       " ('#Bornagain', 2018),\n",
       " ('#Expression', 2019)]"
      ]
     },
     "execution_count": 8,
     "metadata": {},
     "output_type": "execute_result"
    }
   ],
   "source": [
    "task = \"\"\"\n",
    "        SELECT title, year\n",
    "        FROM movies\n",
    "        WHERE year >= 2018\n",
    "        ORDER BY title ASC;\n",
    "\"\"\"\n",
    "\n",
    "sql_three = execute_task(task)\n",
    "sql_three.fetchmany(10)"
   ]
  },
  {
   "cell_type": "markdown",
   "metadata": {},
   "source": [
    "# 4.sql\n",
    "\n",
    "## Q: determine the number of movies with an IMDb rating of 10.0\n",
    "\n",
    "1. Your query should output a table with a single column and a single row (plus optional header) containing the number of movies with a 10.0 rating."
   ]
  },
  {
   "cell_type": "code",
   "execution_count": 9,
   "metadata": {},
   "outputs": [
    {
     "data": {
      "text/plain": [
       "(12,)"
      ]
     },
     "execution_count": 9,
     "metadata": {},
     "output_type": "execute_result"
    }
   ],
   "source": [
    "task = \"\"\"\n",
    "        SELECT COUNT(title) FROM movies\n",
    "        INNER JOIN ratings\n",
    "        ON movies.id = ratings.movie_id\n",
    "        WHERE rating = 10.0;\n",
    "\"\"\"\n",
    "\n",
    "sql_four = execute_task(task)\n",
    "sql_four.fetchone()"
   ]
  },
  {
   "cell_type": "markdown",
   "metadata": {},
   "source": [
    "# 5.sql\n",
    "\n",
    "## Q: list the titles and release years of all Harry Potter movies, in chronological order\n",
    "\n",
    "1. Your query should output a table with two columns, one for the title of each movie and one for the release year of each movie.\n",
    "2. You may assume that the title of all Harry Potter movies will begin with the words “Harry Potter”, and that if a movie title begins with the words “Harry Potter”, it is a Harry Potter movie."
   ]
  },
  {
   "cell_type": "code",
   "execution_count": 10,
   "metadata": {},
   "outputs": [
    {
     "data": {
      "text/plain": [
       "[(241527, \"Harry Potter and the Sorcerer's Stone\", 2001),\n",
       " (295297, 'Harry Potter and the Chamber of Secrets', 2002),\n",
       " (304141, 'Harry Potter and the Prisoner of Azkaban', 2004),\n",
       " (330373, 'Harry Potter and the Goblet of Fire', 2005),\n",
       " (373889, 'Harry Potter and the Order of the Phoenix', 2007),\n",
       " (417741, 'Harry Potter and the Half-Blood Prince', 2009),\n",
       " (926084, 'Harry Potter and the Deathly Hallows: Part 1', 2010),\n",
       " (1201607, 'Harry Potter and the Deathly Hallows: Part 2', 2011),\n",
       " (8443702, 'Harry Potter and the Untold Stories of Hogwarts', 2012),\n",
       " (7783322, 'Harry Potter: A History of Magic', 2017)]"
      ]
     },
     "execution_count": 10,
     "metadata": {},
     "output_type": "execute_result"
    }
   ],
   "source": [
    "task = \"\"\"\n",
    "        SELECT * FROM movies\n",
    "        WHERE title LIKE 'Harry Potter%'\n",
    "        ORDER BY year ASC;\n",
    "\"\"\"\n",
    "\n",
    "sql_five = execute_task(task)\n",
    "sql_five.fetchall()"
   ]
  },
  {
   "cell_type": "markdown",
   "metadata": {},
   "source": [
    "# 6.sql\n",
    "\n",
    "## Q: determine the average rating of all movies released in 2012\n",
    "\n",
    "1. Your query should output a table with a single column and a single row (plus optional header) containing the average rating."
   ]
  },
  {
   "cell_type": "code",
   "execution_count": 11,
   "metadata": {},
   "outputs": [
    {
     "data": {
      "text/plain": [
       "6.275459249676552"
      ]
     },
     "execution_count": 11,
     "metadata": {},
     "output_type": "execute_result"
    }
   ],
   "source": [
    "task = \"\"\"\n",
    "        SELECT AVG(rating) FROM movies\n",
    "        INNER JOIN ratings\n",
    "        ON movies.id = ratings.movie_id\n",
    "        WHERE year = 2012;\n",
    "\"\"\"\n",
    "\n",
    "sql_six = execute_task(task)\n",
    "sql_six.fetchall()[0][0]"
   ]
  },
  {
   "cell_type": "markdown",
   "metadata": {},
   "source": [
    "# 7.sql\n",
    "\n",
    "## Q: list all movies released in 2010 and their ratings, in descending order by rating. For movies with the same rating, order them alphabetically by title\n",
    "\n",
    "1. Your query should output a table with two columns, one for the title of each movie and one for the rating of each movie.\n",
    "2. Movies that do not have ratings should not be included in the result."
   ]
  },
  {
   "cell_type": "code",
   "execution_count": 12,
   "metadata": {},
   "outputs": [
    {
     "data": {
      "text/plain": [
       "[('Amaren ideia', 9.8),\n",
       " ('Mujeres republicanas', 9.8),\n",
       " ('Soberano: Seis Vezes São Paulo', 9.5),\n",
       " ('For Queen and Country', 9.4),\n",
       " ('Invisible Circus: No Dress Rehearsal', 9.4),\n",
       " ('Kino moje malo', 9.4),\n",
       " ('Land of the Rising Fastball', 9.4),\n",
       " ('Moonshine to the Finish Line: An Unofficial History of NASCAR', 9.4),\n",
       " ('Nickel City Smiler', 9.4),\n",
       " ('Bots High', 9.3)]"
      ]
     },
     "execution_count": 12,
     "metadata": {},
     "output_type": "execute_result"
    }
   ],
   "source": [
    "task = \"\"\"\n",
    "        SELECT title, rating FROM movies\n",
    "        INNER JOIN ratings\n",
    "        ON movies.id = ratings.movie_id\n",
    "        WHERE year = 2010\n",
    "        ORDER BY rating DESC, title ASC;\n",
    "\"\"\"\n",
    "\n",
    "sql_seven = execute_task(task)\n",
    "sql_seven.fetchmany(10)"
   ]
  },
  {
   "cell_type": "markdown",
   "metadata": {},
   "source": [
    "# 8.sql\n",
    "\n",
    "## Q: list the names of all people who starred in Toy Story\n",
    "\n",
    "1. Your query should output a table with a single column for the name of each person.\n",
    "2. You may assume that there is only one movie in the database with the title Toy Story."
   ]
  },
  {
   "cell_type": "code",
   "execution_count": 13,
   "metadata": {},
   "outputs": [
    {
     "data": {
      "text/plain": [
       "[('Tom Hanks',), ('Tim Allen',), ('Don Rickles',), ('Jim Varney',)]"
      ]
     },
     "execution_count": 13,
     "metadata": {},
     "output_type": "execute_result"
    }
   ],
   "source": [
    "task = \"\"\"\n",
    "        SELECT name FROM movies\n",
    "        INNER JOIN stars\n",
    "        ON movies.id = stars.movie_id\n",
    "        INNER JOIN people\n",
    "        ON stars.person_id = people.id\n",
    "        WHERE title = 'Toy Story';\n",
    "\"\"\"\n",
    "\n",
    "sql_eight = execute_task(task)\n",
    "sql_eight.fetchall()"
   ]
  },
  {
   "cell_type": "markdown",
   "metadata": {},
   "source": [
    "# 9.sql\n",
    "\n",
    "## Q: list the names of all people who starred in a movie released in 2004, ordered by birth year\n",
    "\n",
    "1. Your query should output a table with a single column for the name of each person.\n",
    "2. People with the same birth year may be listed in any order.\n",
    "3. No need to worry about people who have no birth year listed, so long as those who do have a birth year are listed in order.\n",
    "4. If a person appeared in more than one movie in 2004, they should only appear in your results once."
   ]
  },
  {
   "cell_type": "code",
   "execution_count": 14,
   "metadata": {},
   "outputs": [
    {
     "name": "stdout",
     "output_type": "stream",
     "text": [
      "18013\n"
     ]
    }
   ],
   "source": [
    "task = \"\"\"\n",
    "        SELECT \n",
    "            DISTINCT(person_id),\n",
    "            name\n",
    "        FROM stars\n",
    "        \n",
    "        JOIN people\n",
    "            ON stars.person_id = people.id\n",
    "        \n",
    "        WHERE movie_id IN (\n",
    "            SELECT id FROM movies\n",
    "            WHERE year = 2004\n",
    "        );\n",
    "\"\"\"\n",
    "\n",
    "sql_nine = execute_task(task)\n",
    "print(len(sql_nine.fetchall()))\n",
    "## sql_nine.fetchmany(10)"
   ]
  },
  {
   "cell_type": "markdown",
   "metadata": {},
   "source": [
    "# 10.sql\n",
    "\n",
    "## Q: list the names of all people who have directed a movie that received a rating of at least 9.0\n",
    "\n",
    "1. Your query should output a table with a single column for the name of each person."
   ]
  },
  {
   "cell_type": "code",
   "execution_count": 15,
   "metadata": {},
   "outputs": [
    {
     "name": "stdout",
     "output_type": "stream",
     "text": [
      "1841\n"
     ]
    }
   ],
   "source": [
    "task = \"\"\"\n",
    "        SELECT \n",
    "            DISTINCT(name)\n",
    "        FROM directors\n",
    "\n",
    "        LEFT OUTER JOIN ratings\n",
    "            ON directors.movie_id = ratings.movie_id\n",
    "        JOIN people\n",
    "            ON directors.person_id = people.id\n",
    "\n",
    "        WHERE rating >= 9.0;\n",
    "\"\"\"\n",
    "\n",
    "sql_ten = execute_task(task)\n",
    "print(len(sql_ten.fetchall()))"
   ]
  },
  {
   "cell_type": "markdown",
   "metadata": {},
   "source": [
    "# 11.sql\n",
    "\n",
    "## Q: list the titles of the five highest rated movies (in order) that Chadwick Boseman starred in, starting with the highest rated\n",
    "\n",
    "1. Your query should output a table with a single column for the title of each movie.\n",
    "2. You may assume that there is only one person in the database with the name Chadwick Boseman."
   ]
  },
  {
   "cell_type": "code",
   "execution_count": 16,
   "metadata": {},
   "outputs": [
    {
     "data": {
      "text/plain": [
       "[('Chadwick Boseman', '42', 7.5),\n",
       " ('Chadwick Boseman', 'Black Panther', 7.3),\n",
       " ('Chadwick Boseman', 'Marshall', 7.2),\n",
       " ('Chadwick Boseman', 'Get on Up', 6.9),\n",
       " ('Chadwick Boseman', 'Draft Day', 6.8)]"
      ]
     },
     "execution_count": 16,
     "metadata": {},
     "output_type": "execute_result"
    }
   ],
   "source": [
    "task = \"\"\"\n",
    "        SELECT \n",
    "            name,\n",
    "            title,\n",
    "            rating\n",
    "        FROM movies\n",
    "\n",
    "        JOIN stars\n",
    "            ON movies.id = stars.movie_id\n",
    "        JOIN people\n",
    "            ON stars.person_id = people.id\n",
    "        JOIN ratings\n",
    "            ON movies.id = ratings.movie_id\n",
    "\n",
    "        WHERE name = 'Chadwick Boseman'\n",
    "        ORDER BY \n",
    "            rating DESC,\n",
    "            title ASC\n",
    "        LIMIT 5;\n",
    "\"\"\"\n",
    "\n",
    "sql_eleven = execute_task(task)\n",
    "sql_eleven.fetchall()"
   ]
  },
  {
   "cell_type": "markdown",
   "metadata": {},
   "source": [
    "# 12.sql\n",
    "\n",
    "## Q: list the titles of all movies in which both Johnny Depp and Helena Bonham Carter starred\n",
    "\n",
    "1. Your query should output a table with a single column for the title of each movie.\n",
    "2. You may assume that there is only one person in the database with the name Johnny Depp.\n",
    "3. You may assume that there is only one person in the database with the name Helena Bonham Carter."
   ]
  },
  {
   "cell_type": "code",
   "execution_count": 17,
   "metadata": {},
   "outputs": [
    {
     "data": {
      "text/plain": [
       "[('Corpse Bride',),\n",
       " ('Charlie and the Chocolate Factory',),\n",
       " ('Sweeney Todd: The Demon Barber of Fleet Street',),\n",
       " ('Alice in Wonderland',),\n",
       " ('Dark Shadows',),\n",
       " ('Alice Through the Looking Glass',)]"
      ]
     },
     "execution_count": 17,
     "metadata": {},
     "output_type": "execute_result"
    }
   ],
   "source": [
    "try:\n",
    "    task = \"\"\"\n",
    "            CREATE VIEW jd_hbc AS\n",
    "\n",
    "            SELECT \n",
    "                movie_id,\n",
    "                person_id,\n",
    "                title,\n",
    "                name\n",
    "            FROM movies\n",
    "\n",
    "            JOIN stars\n",
    "            ON movies.id = stars.movie_id\n",
    "            JOIN people\n",
    "            ON stars.person_id = people.id\n",
    "            WHERE name = 'Johnny Depp' or name = 'Helena Bonham Carter'\n",
    "    \"\"\"\n",
    "    sql_twelve = c.execute(task)\n",
    "    conn.commit()\n",
    "except Exception as e:\n",
    "    print(e)\n",
    "\n",
    "task_2 = \"\"\"\n",
    "        SELECT title FROM jd_hbc\n",
    "        GROUP BY movie_id, title\n",
    "        HAVING count(movie_id) = 2;\n",
    "\"\"\"        \n",
    "\n",
    "sql_twelve = c.execute(task_2)\n",
    "sql_twelve.fetchall()"
   ]
  },
  {
   "cell_type": "markdown",
   "metadata": {},
   "source": [
    "# 13.sql\n",
    "\n",
    "## Q: list the names of all people who starred in a movie in which Kevin Bacon also starred\n",
    "\n",
    "1. Your query should output a table with a single column for the name of each person.\n",
    "2. There may be multiple people named Kevin Bacon in the database. Be sure to only select the Kevin Bacon born in 1958.\n",
    "3. Kevin Bacon himself should not be included in the resulting list."
   ]
  },
  {
   "cell_type": "code",
   "execution_count": 18,
   "metadata": {},
   "outputs": [
    {
     "name": "stdout",
     "output_type": "stream",
     "text": [
      "176\n"
     ]
    }
   ],
   "source": [
    "task = \"\"\"\n",
    "        SELECT \n",
    "            DISTINCT(name)\n",
    "        FROM stars\n",
    "\n",
    "        LEFT OUTER JOIN people\n",
    "            ON stars.person_id = people.id\n",
    "        WHERE movie_id IN(\n",
    "        SELECT \n",
    "            movie_id\n",
    "        FROM stars\n",
    "\n",
    "        LEFT OUTER JOIN people\n",
    "            ON stars.person_id = people.id\n",
    "        WHERE name = 'Kevin Bacon'\n",
    "            AND birth = 1958\n",
    "        )\n",
    "        AND name != 'Kevin Bacon';\n",
    "\"\"\"        \n",
    "\n",
    "sql_thirteen = c.execute(task)\n",
    "print(len(sql_thirteen.fetchall()))"
   ]
  }
 ],
 "metadata": {
  "kernelspec": {
   "display_name": "Python 3",
   "language": "python",
   "name": "python3"
  },
  "language_info": {
   "codemirror_mode": {
    "name": "ipython",
    "version": 3
   },
   "file_extension": ".py",
   "mimetype": "text/x-python",
   "name": "python",
   "nbconvert_exporter": "python",
   "pygments_lexer": "ipython3",
   "version": "3.7.3"
  }
 },
 "nbformat": 4,
 "nbformat_minor": 2
}
