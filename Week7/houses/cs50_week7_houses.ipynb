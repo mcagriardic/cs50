{
 "cells": [
  {
   "cell_type": "code",
   "execution_count": 1,
   "metadata": {},
   "outputs": [],
   "source": [
    "import sqlite3\n",
    "import csv"
   ]
  },
  {
   "cell_type": "code",
   "execution_count": 2,
   "metadata": {},
   "outputs": [],
   "source": [
    "db_file = \"students.db\"\n",
    "conn = sqlite3.connect(db_file, timeout=10)\n",
    "c = conn.cursor()"
   ]
  },
  {
   "cell_type": "code",
   "execution_count": 3,
   "metadata": {},
   "outputs": [],
   "source": [
    "def execute_task(task, connection = conn):\n",
    "    c = connection.cursor()\n",
    "    return c.execute(task)"
   ]
  },
  {
   "cell_type": "code",
   "execution_count": 4,
   "metadata": {},
   "outputs": [],
   "source": [
    "def split_name(name):\n",
    "    names = name.split()\n",
    "    if len(names) == 2:\n",
    "        first_name = names[0]\n",
    "        middle_name = None\n",
    "        last_name = names[-1]\n",
    "    elif len(names) == 3:\n",
    "        first_name = names[0]\n",
    "        middle_name = names[1]\n",
    "        last_name = names[-1]\n",
    "        \n",
    "    return first_name, middle_name, last_name"
   ]
  },
  {
   "cell_type": "code",
   "execution_count": 5,
   "metadata": {},
   "outputs": [],
   "source": [
    "with open(\"characters.csv\", newline='') as csvfile:\n",
    "    csv_pointer = csv.DictReader(csvfile)\n",
    "    for row in csv_pointer:\n",
    "        names_splitted = split_name(row[\"name\"])\n",
    "        task = \"\"\"\n",
    "        INSERT INTO students (first, middle, last, house, birth) VALUES (?,?,?,?,?);\n",
    "        \"\"\" \n",
    "        c.execute(\n",
    "            task,\n",
    "            (\n",
    "                names_splitted[0],\n",
    "                names_splitted[1],\n",
    "                names_splitted[2],\n",
    "                row[\"house\"],\n",
    "                row[\"birth\"]\n",
    "            )\n",
    "        )"
   ]
  },
  {
   "cell_type": "code",
   "execution_count": 6,
   "metadata": {
    "scrolled": true
   },
   "outputs": [
    {
     "data": {
      "text/plain": [
       "[(1, 'Adelaide', None, 'Murton', 'Slytherin', 1982),\n",
       " (2, 'Adrian', None, 'Pucey', 'Slytherin', 1977),\n",
       " (3, 'Anthony', None, 'Goldstein', 'Ravenclaw', 1980),\n",
       " (4, 'Blaise', None, 'Zabini', 'Slytherin', 1979),\n",
       " (5, 'Cedric', None, 'Diggory', 'Hufflepuff', 1977),\n",
       " (6, 'Cho', None, 'Chang', 'Ravenclaw', 1979),\n",
       " (7, 'Colin', None, 'Creevey', 'Gryffindor', 1981),\n",
       " (8, 'Dean', None, 'Thomas', 'Gryffindor', 1980),\n",
       " (9, 'Draco', 'Lucius', 'Malfoy', 'Slytherin', 1980),\n",
       " (10, 'Ernest', None, 'Macmillan', 'Hufflepuff', 1980),\n",
       " (11, 'Ginevra', 'Molly', 'Weasley', 'Gryffindor', 1981),\n",
       " (12, 'Gregory', None, 'Goyle', 'Slytherin', 1980),\n",
       " (13, 'Hannah', None, 'Abbott', 'Hufflepuff', 1980),\n",
       " (14, 'Harry', 'James', 'Potter', 'Gryffindor', 1980),\n",
       " (15, 'Hermione', 'Jean', 'Granger', 'Gryffindor', 1979),\n",
       " (16, 'Isobel', None, 'MacDougal', 'Ravenclaw', 1980),\n",
       " (17, 'Justin', None, 'Finch-Fletchley', 'Hufflepuff', 1979),\n",
       " (18, 'Lavender', None, 'Brown', 'Gryffindor', 1979),\n",
       " (19, 'Lisa', None, 'Turpin', 'Ravenclaw', 1979),\n",
       " (20, 'Luna', None, 'Lovegood', 'Ravenclaw', 1981),\n",
       " (21, 'Mandy', None, 'Brocklehurst', 'Ravenclaw', 1979),\n",
       " (22, 'Marcus', None, 'Flint', 'Slytherin', 1975),\n",
       " (23, 'Marietta', None, 'Edgecombe', 'Ravenclaw', 1978),\n",
       " (24, 'Michael', None, 'Corner', 'Ravenclaw', 1979),\n",
       " (25, 'Millicent', None, 'Bulstrode', 'Slytherin', 1979),\n",
       " (26, 'Neville', None, 'Longbottom', 'Gryffindor', 1980),\n",
       " (27, 'Padma', None, 'Patil', 'Ravenclaw', 1979),\n",
       " (28, 'Pansy', None, 'Parkinson', 'Slytherin', 1979),\n",
       " (29, 'Parvati', None, 'Patil', 'Gryffindor', 1979),\n",
       " (30, 'Penelope', None, 'Clearwater', 'Ravenclaw', 1976),\n",
       " (31, 'Robert', None, 'Hilliard', 'Ravenclaw', 1974),\n",
       " (32, 'Roger', None, 'Davies', 'Ravenclaw', 1978),\n",
       " (33, 'Romilda', None, 'Vane', 'Gryffindor', 1981),\n",
       " (34, 'Ronald', 'Bilius', 'Weasley', 'Gryffindor', 1980),\n",
       " (35, 'Seamus', None, 'Finnigan', 'Gryffindor', 1979),\n",
       " (36, 'Susan', None, 'Bones', 'Hufflepuff', 1979),\n",
       " (37, 'Terence', None, 'Higgs', 'Slytherin', 1979),\n",
       " (38, 'Terry', None, 'Boot', 'Ravenclaw', 1980),\n",
       " (39, 'Tracey', None, 'Davis', 'Slytherin', 1980),\n",
       " (40, 'Vincent', None, 'Crabbe', 'Slytherin', 1979)]"
      ]
     },
     "execution_count": 6,
     "metadata": {},
     "output_type": "execute_result"
    }
   ],
   "source": [
    "c.execute(\"SELECT * FROM students\")\n",
    "c.fetchall()"
   ]
  },
  {
   "cell_type": "code",
   "execution_count": 8,
   "metadata": {},
   "outputs": [],
   "source": [
    "conn.commit()"
   ]
  }
 ],
 "metadata": {
  "kernelspec": {
   "display_name": "Python 3",
   "language": "python",
   "name": "python3"
  },
  "language_info": {
   "codemirror_mode": {
    "name": "ipython",
    "version": 3
   },
   "file_extension": ".py",
   "mimetype": "text/x-python",
   "name": "python",
   "nbconvert_exporter": "python",
   "pygments_lexer": "ipython3",
   "version": "3.7.3"
  }
 },
 "nbformat": 4,
 "nbformat_minor": 2
}
